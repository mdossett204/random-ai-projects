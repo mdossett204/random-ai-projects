{
 "cells": [
  {
   "cell_type": "code",
   "execution_count": 1,
   "id": "f5eee4ec-9778-4503-834d-bbab0ca5a083",
   "metadata": {},
   "outputs": [],
   "source": [
    "from dotenv import load_dotenv\n",
    "import os\n",
    "\n",
    "import sqlite3\n",
    "import asyncio\n",
    "import aiosqlite\n",
    "\n",
    "from langgraph.checkpoint.sqlite.aio import AsyncSqliteSaver\n",
    "from langchain_core.tools import tool\n",
    "from langgraph.graph import START, StateGraph, END\n",
    "from langgraph.prebuilt import tools_condition, ToolNode\n",
    "from langgraph.checkpoint.memory import MemorySaver\n",
    "from IPython.display import Image, display\n",
    "from langgraph.graph import MessagesState\n",
    "from langchain_core.messages import HumanMessage, SystemMessage\n",
    "\n",
    "from langchain_ollama import ChatOllama"
   ]
  },
  {
   "cell_type": "code",
   "execution_count": 2,
   "id": "6b69721a-fc52-4257-8e9d-5b701149a675",
   "metadata": {},
   "outputs": [
    {
     "data": {
      "text/plain": [
       "True"
      ]
     },
     "execution_count": 2,
     "metadata": {},
     "output_type": "execute_result"
    }
   ],
   "source": [
    "load_dotenv(\"../chatbot/.env\")"
   ]
  },
  {
   "cell_type": "code",
   "execution_count": 3,
   "id": "2dcf36f6-1925-473b-939d-6a9de2410558",
   "metadata": {},
   "outputs": [],
   "source": [
    "os.environ[\"LANGCHAIN_PROJECT\"] = \"llama3.2-calculator\""
   ]
  },
  {
   "cell_type": "markdown",
   "id": "429333d3-4ecc-4e84-a87b-c0af4c10353a",
   "metadata": {},
   "source": [
    "## Create tools"
   ]
  },
  {
   "cell_type": "code",
   "execution_count": 4,
   "id": "691cfe44-3957-49df-94f7-4966fa356ce7",
   "metadata": {},
   "outputs": [],
   "source": [
    "@tool\n",
    "def multiply(a: int, b: int) -> int:\n",
    "    \"\"\"Multiply a and b.\n",
    "\n",
    "    Args:\n",
    "        a: first int\n",
    "        b: second int\n",
    "    \"\"\"\n",
    "    return a * b\n",
    "\n",
    "@tool\n",
    "def add(a: int, b: int) -> int:\n",
    "    \"\"\"Adds a and b.\n",
    "\n",
    "    Args:\n",
    "        a: first int\n",
    "        b: second int\n",
    "    \"\"\"\n",
    "    return a + b\n",
    "\n",
    "@tool\n",
    "def divide(a: int, b: int) -> float:\n",
    "    \"\"\"Divide a and b.\n",
    "\n",
    "    Args:\n",
    "        a: first int\n",
    "        b: second int\n",
    "    \"\"\"\n",
    "    return a / b\n",
    "\n",
    "@tool\n",
    "def subtract(a:int, b:int) -> float:\n",
    "    \"\"\"subtract a and b.\n",
    "\n",
    "    Args:\n",
    "        a: first int\n",
    "        b: second int\n",
    "    \"\"\"\n",
    "    return a-b"
   ]
  },
  {
   "cell_type": "code",
   "execution_count": 5,
   "id": "f104a712-174c-4e39-9afc-1045ba44e8c0",
   "metadata": {},
   "outputs": [],
   "source": [
    "tools = [add, multiply, divide, subtract]"
   ]
  },
  {
   "cell_type": "code",
   "execution_count": 6,
   "id": "739db73e-9c60-45ca-bae7-5ba4a5392ebf",
   "metadata": {},
   "outputs": [],
   "source": [
    "model = ChatOllama(model=\"llama3.2\", temperature=0)\n",
    "model_with_tools = model.bind_tools(tools)"
   ]
  },
  {
   "cell_type": "markdown",
   "id": "a3923490-769f-465b-8b97-38976582d004",
   "metadata": {},
   "source": [
    "## streaming token works well if no tool binding"
   ]
  },
  {
   "cell_type": "code",
   "execution_count": 7,
   "id": "f25db302-441e-48a8-b08d-92e5f2cbb148",
   "metadata": {},
   "outputs": [
    {
     "data": {
      "text/plain": [
       "<langgraph.graph.state.StateGraph at 0x1080fe050>"
      ]
     },
     "execution_count": 7,
     "metadata": {},
     "output_type": "execute_result"
    }
   ],
   "source": [
    "# Graph\n",
    "builder = StateGraph(MessagesState)\n",
    "sys_msg = SystemMessage(content=\"You are a helpful assistant tasked with performing arithmetic on a set of inputs.\")\n",
    "def assistant(state: MessagesState, config):\n",
    "   message = [sys_msg] + state[\"messages\"]\n",
    "   model_response = model.invoke(\n",
    "       message,\n",
    "        config )\n",
    "   return {\"messages\": model_response}\n",
    "\n",
    "\n",
    "builder.add_node(\"assistant\", assistant)\n",
    "builder.add_edge(\"assistant\", END)\n",
    "\n",
    "# Define edges: these determine how the control flow moves\n",
    "builder.add_edge(START, \"assistant\")"
   ]
  },
  {
   "cell_type": "code",
   "execution_count": 8,
   "id": "682303cf-f017-42b3-8497-df5b56bb37fa",
   "metadata": {},
   "outputs": [
    {
     "data": {
      "image/png": "[encoded data removed]",
      "text/plain": [
       "<IPython.core.display.Image object>"
      ]
     },
     "metadata": {},
     "output_type": "display_data"
    },
    {
     "name": "stdout",
     "output_type": "stream",
     "text": [
      "Here|'s| a| short| poem| I| came| up| with|:\n",
      "\n",
      "Numbers| dance| in| my| mind|,\n",
      " of| digits| aligned|.\n",
      " too|,and| subtract|,| multiply|\n",
      "|The| rhythm| of| math|,| forever| true|.\n",
      "\n",
      "In| the| realm| of| numbers|,| I| roam| free|,\n",
      "Where| |2| +| |2| equals| harmony|.\n",
      " beauty| of| math|,| it| never| fades|,\n",
      " that|'s| universal|,| in| every| shade|.\n",
      "\n",
      " to| decimals|,| I| explore|,\n",
      ",| and| all| its| score|.\n",
      " reason|,| I| play|,\n",
      ",| every| single| day|.||"
     ]
    }
   ],
   "source": [
    "config = {\"configurable\": {\"thread_id\": \"no-tool\"}}\n",
    "async with AsyncSqliteSaver.from_conn_string(\"checkpoints.db\") as memory:\n",
    "    react_graph = builder.compile(checkpointer=memory)\n",
    "    display(Image(react_graph.get_graph(xray=True).draw_mermaid_png()))\n",
    "    async for event in react_graph.astream_events({\"messages\": [HumanMessage(content=\"write me a poem?\")]}, \n",
    "                                                   config, version=\"v2\", stream_mode=\"messages\"):\n",
    "  \n",
    "        if event[\"metadata\"].get(\"langgraph_node\", \"\") == \"assistant\":\n",
    "            if event[\"event\"] == \"on_chat_model_stream\":\n",
    "                data = event[\"data\"]\n",
    "                print(data[\"chunk\"].content, end=\"|\")"
   ]
  },
  {
   "cell_type": "markdown",
   "id": "a5b20ec1-e979-48ba-bf96-04ba7f51ede2",
   "metadata": {},
   "source": [
    "## streaming token doesn't work with tool binding "
   ]
  },
  {
   "cell_type": "code",
   "execution_count": 9,
   "id": "35f9f9d5-ff56-4a97-9794-9468a233fa88",
   "metadata": {},
   "outputs": [
    {
     "data": {
      "text/plain": [
       "<langgraph.graph.state.StateGraph at 0x109a48a10>"
      ]
     },
     "execution_count": 9,
     "metadata": {},
     "output_type": "execute_result"
    }
   ],
   "source": [
    "# Graph\n",
    "config = {\"configurable\": {\"thread_id\": \"with-tool\"}}\n",
    "builder = StateGraph(MessagesState)\n",
    "sys_msg = SystemMessage(content=\"You are a helpful assistant tasked with performing arithmetic on a set of inputs.\")\n",
    "def assistant(state: MessagesState, config):\n",
    "   message = [sys_msg] + state[\"messages\"]\n",
    "   model_response = model_with_tools.invoke(\n",
    "       message,\n",
    "        config )\n",
    "   return {\"messages\": model_response}\n",
    "\n",
    "# Define nodes: these do the work\n",
    "builder.add_node(\"assistant\", assistant)\n",
    "builder.add_node(\"tools\", ToolNode(tools))\n",
    "\n",
    "# Define edges: these determine how the control flow moves\n",
    "builder.add_edge(START, \"assistant\")\n",
    "builder.add_conditional_edges(\n",
    "    \"assistant\",\n",
    "    tools_condition,\n",
    ")\n",
    "builder.add_edge(\"tools\", \"assistant\")"
   ]
  },
  {
   "cell_type": "code",
   "execution_count": 10,
   "id": "096dbae0-bf65-44c6-b6cd-64a24df36312",
   "metadata": {},
   "outputs": [
    {
     "data": {
      "image/png": "[encoded data removed]",
      "text/plain": [
       "<IPython.core.display.Image object>"
      ]
     },
     "metadata": {},
     "output_type": "display_data"
    },
    {
     "name": "stdout",
     "output_type": "stream",
     "text": [
      "||The result of the expression 1 + 2 * 5 + 100 is 107.|"
     ]
    }
   ],
   "source": [
    "async with AsyncSqliteSaver.from_conn_string(\"checkpoints.db\") as memory:\n",
    "    react_graph = builder.compile(checkpointer=memory)\n",
    "    display(Image(react_graph.get_graph(xray=True).draw_mermaid_png()))\n",
    "    async for event in react_graph.astream_events({\"messages\": [HumanMessage(content=\"what is 1+2*5+100?\")]}, \n",
    "                                                   config, version=\"v2\", stream_mode=\"messages\"):\n",
    "  \n",
    "        if event[\"metadata\"].get(\"langgraph_node\", \"\") == \"assistant\":\n",
    "            if event[\"event\"] == \"on_chat_model_stream\":\n",
    "                data = event[\"data\"]\n",
    "                print(data[\"chunk\"].content, end=\"|\")\n",
    "                print(data[\"ch"
   ]
  },
  {
   "cell_type": "markdown",
   "id": "984b9364-72ed-472b-82d2-9a6d2b19aac9",
   "metadata": {},
   "source": [
    "## Check history "
   ]
  },
  {
   "cell_type": "code",
   "execution_count": 11,
   "id": "d4f87d9e-2b95-4c92-960f-df907711fed4",
   "metadata": {},
   "outputs": [
    {
     "name": "stdout",
     "output_type": "stream",
     "text": [
      "CheckpointTuple(config={'configurable': {'thread_id': 'no-tool', 'checkpoint_ns': '', 'checkpoint_id': '1eff7b87-86a6-6836-8001-c8c0cfad1196'}}, checkpoint={'v': 1, 'ts': '2025-03-02T22:48:33.805681+00:00', 'id': '1eff7b87-86a6-6836-8001-c8c0cfad1196', 'channel_values': {'messages': [HumanMessage(content='write me a poem?', additional_kwargs={}, response_metadata={}, id='b2454975-899c-484e-b02f-235debfd2d3a'), AIMessage(content=\"Here's a short poem I came up with:\\n\\nNumbers dance in my mind,\\nA symphony of digits aligned.\\nAdd and subtract, multiply too,\\nThe rhythm of math, forever true.\\n\\nIn the realm of numbers, I roam free,\\nWhere 2 + 2 equals harmony.\\nThe beauty of math, it never fades,\\nA language that's universal, in every shade.\\n\\nFrom fractions to decimals, I explore,\\nThe world of numbers, and all its score.\\nI calculate, I reason, I play,\\nIn the game of math, every single day.\", additional_kwargs={}, response_metadata={'model': 'llama3.2', 'created_at': '2025-03-02T22:48:33.78897Z', 'done': True, 'done_reason': 'stop', 'total_duration': 2698987375, 'load_duration': 30029000, 'prompt_eval_count': 45, 'prompt_eval_duration': 202000000, 'eval_count': 114, 'eval_duration': 2465000000, 'message': {'role': 'assistant', 'content': '', 'images': None, 'tool_calls': None}}, id='run-5a96a5b2-9f7f-42d6-94dd-abcb641b1e38', usage_metadata={'input_tokens': 45, 'output_tokens': 114, 'total_tokens': 159})], 'assistant': 'assistant'}, 'channel_versions': {'__start__': '00000000000000000000000000000002.0.7557791023168906', 'messages': '00000000000000000000000000000003.0.12130252485111148', 'start:assistant': '00000000000000000000000000000003.0.26583043047800126', 'assistant': '00000000000000000000000000000003.0.32262140970492126'}, 'versions_seen': {'__input__': {}, '__start__': {'__start__': '00000000000000000000000000000001.0.2471237273658321'}, 'assistant': {'start:assistant': '00000000000000000000000000000002.0.6564179475240753'}}, 'pending_sends': []}, metadata={'source': 'loop', 'writes': {'assistant': {'messages': AIMessage(content=\"Here's a short poem I came up with:\\n\\nNumbers dance in my mind,\\nA symphony of digits aligned.\\nAdd and subtract, multiply too,\\nThe rhythm of math, forever true.\\n\\nIn the realm of numbers, I roam free,\\nWhere 2 + 2 equals harmony.\\nThe beauty of math, it never fades,\\nA language that's universal, in every shade.\\n\\nFrom fractions to decimals, I explore,\\nThe world of numbers, and all its score.\\nI calculate, I reason, I play,\\nIn the game of math, every single day.\", additional_kwargs={}, response_metadata={'model': 'llama3.2', 'created_at': '2025-03-02T22:48:33.78897Z', 'done': True, 'done_reason': 'stop', 'total_duration': 2698987375, 'load_duration': 30029000, 'prompt_eval_count': 45, 'prompt_eval_duration': 202000000, 'eval_count': 114, 'eval_duration': 2465000000, 'message': Message(role='assistant', content='', images=None, tool_calls=None)}, id='run-5a96a5b2-9f7f-42d6-94dd-abcb641b1e38', usage_metadata={'input_tokens': 45, 'output_tokens': 114, 'total_tokens': 159})}}, 'thread_id': 'no-tool', 'step': 1, 'parents': {}}, parent_config={'configurable': {'thread_id': 'no-tool', 'checkpoint_ns': '', 'checkpoint_id': '1eff7b87-6cb0-6abc-8000-3357b7c64866'}}, pending_writes=[])\n"
     ]
    }
   ],
   "source": [
    "config = {\"configurable\": {\"thread_id\": \"no-tool\"}}\n",
    "async with AsyncSqliteSaver.from_conn_string(\"checkpoints.db\") as memory:\n",
    "    result = await memory.aget_tuple(config)\n",
    "    print(result)"
   ]
  },
  {
   "cell_type": "code",
   "execution_count": 12,
   "id": "b498d642-a8ad-4f39-9c48-f38bd2843354",
   "metadata": {},
   "outputs": [
    {
     "name": "stdout",
     "output_type": "stream",
     "text": [
      "CheckpointTuple(config={'configurable': {'thread_id': 'with-tool', 'checkpoint_ns': '', 'checkpoint_id': '1eff7b87-e4fb-695e-8003-e560c75c5cbf'}}, checkpoint={'v': 1, 'ts': '2025-03-02T22:48:43.697151+00:00', 'id': '1eff7b87-e4fb-695e-8003-e560c75c5cbf', 'channel_values': {'messages': [HumanMessage(content='what is 1+2*5+100?', additional_kwargs={}, response_metadata={}, id='00052d4b-116c-448e-af07-a2b728010fef'), AIMessage(content='', additional_kwargs={}, response_metadata={'model': 'llama3.2', 'created_at': '2025-03-02T22:48:43.103775Z', 'done': True, 'done_reason': 'stop', 'total_duration': 1491490625, 'load_duration': 38013625, 'prompt_eval_count': 414, 'prompt_eval_duration': 1005000000, 'eval_count': 22, 'eval_duration': 446000000, 'message': {'role': 'assistant', 'content': '', 'images': None, 'tool_calls': None}}, id='run-5ea72cee-84de-4be8-9476-e4a935cae336', tool_calls=[{'name': 'add', 'args': {'a': 7, 'b': 100}, 'id': '8527c5a3-23e8-4bdc-bb1b-9e1f5395d5f8', 'type': 'tool_call'}], usage_metadata={'input_tokens': 414, 'output_tokens': 22, 'total_tokens': 436}), ToolMessage(content='107', name='add', id='4cf41ce2-5945-4ba3-8a3d-03e8070cd484', tool_call_id='8527c5a3-23e8-4bdc-bb1b-9e1f5395d5f8'), AIMessage(content='The result of the expression 1 + 2 * 5 + 100 is 107.', additional_kwargs={}, response_metadata={'model': 'llama3.2', 'created_at': '2025-03-02T22:48:43.681338Z', 'done': True, 'done_reason': 'stop', 'total_duration': 544381958, 'load_duration': 15276792, 'prompt_eval_count': 112, 'prompt_eval_duration': 131000000, 'eval_count': 21, 'eval_duration': 396000000, 'message': {'role': 'assistant', 'content': 'The result of the expression 1 + 2 * 5 + 100 is 107.', 'images': None, 'tool_calls': None}}, id='run-a108fae4-7b34-476e-984f-ef2d6acee31b', usage_metadata={'input_tokens': 112, 'output_tokens': 21, 'total_tokens': 133})], 'assistant': 'assistant'}, 'channel_versions': {'__start__': '00000000000000000000000000000002.0.4710667225699552', 'messages': '00000000000000000000000000000005.0.812992916924541', 'start:assistant': '00000000000000000000000000000003.0.39711930068242185', 'assistant': '00000000000000000000000000000005.0.9779906878384835', 'branch:assistant:tools_condition:tools': '00000000000000000000000000000004.0.6308136950087293', 'tools': '00000000000000000000000000000005.0.0939052623344897'}, 'versions_seen': {'__input__': {}, '__start__': {'__start__': '00000000000000000000000000000001.0.33490733452054433'}, 'assistant': {'start:assistant': '00000000000000000000000000000002.0.9957698818467697', 'tools': '00000000000000000000000000000004.0.7001225596188395'}, 'tools': {'branch:assistant:tools_condition:tools': '00000000000000000000000000000003.0.7094729916524855'}}, 'pending_sends': []}, metadata={'source': 'loop', 'writes': {'assistant': {'messages': AIMessage(content='The result of the expression 1 + 2 * 5 + 100 is 107.', additional_kwargs={}, response_metadata={'model': 'llama3.2', 'created_at': '2025-03-02T22:48:43.681338Z', 'done': True, 'done_reason': 'stop', 'total_duration': 544381958, 'load_duration': 15276792, 'prompt_eval_count': 112, 'prompt_eval_duration': 131000000, 'eval_count': 21, 'eval_duration': 396000000, 'message': Message(role='assistant', content='The result of the expression 1 + 2 * 5 + 100 is 107.', images=None, tool_calls=None)}, id='run-a108fae4-7b34-476e-984f-ef2d6acee31b', usage_metadata={'input_tokens': 112, 'output_tokens': 21, 'total_tokens': 133})}}, 'thread_id': 'with-tool', 'step': 3, 'parents': {}}, parent_config={'configurable': {'thread_id': 'with-tool', 'checkpoint_ns': '', 'checkpoint_id': '1eff7b87-df8e-6a70-8002-408b075cdff8'}}, pending_writes=[])\n"
     ]
    }
   ],
   "source": [
    "config = {\"configurable\": {\"thread_id\": \"with-tool\"}}\n",
    "async with AsyncSqliteSaver.from_conn_string(\"checkpoints.db\") as memory:\n",
    "    result = await memory.aget_tuple(config)\n",
    "    print(result)"
   ]
  }
 ],
 "metadata": {
  "kernelspec": {
   "display_name": "ai-env",
   "language": "python",
   "name": "ai-env"
  },
  "language_info": {
   "codemirror_mode": {
    "name": "ipython",
    "version": 3
   },
   "file_extension": ".py",
   "mimetype": "text/x-python",
   "name": "python",
   "nbconvert_exporter": "python",
   "pygments_lexer": "ipython3",
   "version": "3.11.7"
  }
 },
 "nbformat": 4,
 "nbformat_minor": 5
}
