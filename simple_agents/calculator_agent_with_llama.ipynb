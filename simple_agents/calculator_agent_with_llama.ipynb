{
 "cells": [
  {
   "cell_type": "code",
   "execution_count": 1,
   "id": "f5eee4ec-9778-4503-834d-bbab0ca5a083",
   "metadata": {},
   "outputs": [],
   "source": [
    "from dotenv import load_dotenv\n",
    "import os\n",
    "\n",
    "import sqlite3\n",
    "import asyncio\n",
    "import aiosqlite\n",
    "\n",
    "from langgraph.checkpoint.sqlite.aio import AsyncSqliteSaver\n",
    "from langchain_core.tools import tool\n",
    "from langgraph.graph import START, StateGraph, END\n",
    "from langgraph.prebuilt import tools_condition, ToolNode\n",
    "from langgraph.checkpoint.memory import MemorySaver\n",
    "from IPython.display import Image, display\n",
    "from langgraph.graph import MessagesState\n",
    "from langchain_core.messages import HumanMessage, SystemMessage\n",
    "\n",
    "from langchain_ollama import ChatOllama"
   ]
  },
  {
   "cell_type": "code",
   "execution_count": 2,
   "id": "6b69721a-fc52-4257-8e9d-5b701149a675",
   "metadata": {},
   "outputs": [
    {
     "data": {
      "text/plain": [
       "True"
      ]
     },
     "execution_count": 2,
     "metadata": {},
     "output_type": "execute_result"
    }
   ],
   "source": [
    "load_dotenv(\"../chatbot/.env\")"
   ]
  },
  {
   "cell_type": "code",
   "execution_count": 3,
   "id": "2dcf36f6-1925-473b-939d-6a9de2410558",
   "metadata": {},
   "outputs": [],
   "source": [
    "os.environ[\"LANGCHAIN_PROJECT\"] = \"llama3.2-calculator\""
   ]
  },
  {
   "cell_type": "markdown",
   "id": "429333d3-4ecc-4e84-a87b-c0af4c10353a",
   "metadata": {},
   "source": [
    "## Create tools"
   ]
  },
  {
   "cell_type": "code",
   "execution_count": 4,
   "id": "691cfe44-3957-49df-94f7-4966fa356ce7",
   "metadata": {},
   "outputs": [],
   "source": [
    "@tool\n",
    "def multiply(a: int, b: int) -> int:\n",
    "    \"\"\"Multiply a and b.\n",
    "\n",
    "    Args:\n",
    "        a: first int\n",
    "        b: second int\n",
    "    \"\"\"\n",
    "    return a * b\n",
    "\n",
    "@tool\n",
    "def add(a: int, b: int) -> int:\n",
    "    \"\"\"Adds a and b.\n",
    "\n",
    "    Args:\n",
    "        a: first int\n",
    "        b: second int\n",
    "    \"\"\"\n",
    "    return a + b\n",
    "\n",
    "@tool\n",
    "def divide(a: int, b: int) -> float:\n",
    "    \"\"\"Divide a and b.\n",
    "\n",
    "    Args:\n",
    "        a: first int\n",
    "        b: second int\n",
    "    \"\"\"\n",
    "    return a / b\n",
    "\n",
    "@tool\n",
    "def subtract(a:int, b:int) -> float:\n",
    "    \"\"\"subtract a and b.\n",
    "\n",
    "    Args:\n",
    "        a: first int\n",
    "        b: second int\n",
    "    \"\"\"\n",
    "    return a-b"
   ]
  },
  {
   "cell_type": "code",
   "execution_count": 5,
   "id": "f104a712-174c-4e39-9afc-1045ba44e8c0",
   "metadata": {},
   "outputs": [],
   "source": [
    "tools = [add, multiply, divide, subtract]"
   ]
  },
  {
   "cell_type": "code",
   "execution_count": 6,
   "id": "739db73e-9c60-45ca-bae7-5ba4a5392ebf",
   "metadata": {},
   "outputs": [],
   "source": [
    "model = ChatOllama(model=\"llama3.2\", temperature=0)\n",
    "model_with_tools = model.bind_tools(tools)"
   ]
  },
  {
   "cell_type": "markdown",
   "id": "a3923490-769f-465b-8b97-38976582d004",
   "metadata": {},
   "source": [
    "## streaming token works well if no tool binding"
   ]
  },
  {
   "cell_type": "code",
   "execution_count": 7,
   "id": "f25db302-441e-48a8-b08d-92e5f2cbb148",
   "metadata": {},
   "outputs": [
    {
     "data": {
      "text/plain": [
       "<langgraph.graph.state.StateGraph at 0x1080fe050>"
      ]
     },
     "execution_count": 7,
     "metadata": {},
     "output_type": "execute_result"
    }
   ],
   "source": [
    "# Graph\n",
    "builder = StateGraph(MessagesState)\n",
    "sys_msg = SystemMessage(content=\"You are a helpful assistant tasked with performing arithmetic on a set of inputs.\")\n",
    "def assistant(state: MessagesState, config):\n",
    "   message = [sys_msg] + state[\"messages\"]\n",
    "   model_response = model.invoke(\n",
    "       message,\n",
    "        config )\n",
    "   return {\"messages\": model_response}\n",
    "\n",
    "\n",
    "builder.add_node(\"assistant\", assistant)\n",
    "builder.add_edge(\"assistant\", END)\n",
    "\n",
    "# Define edges: these determine how the control flow moves\n",
    "builder.add_edge(START, \"assistant\")"
   ]
  },
  {
   "cell_type": "code",
   "execution_count": 8,
   "id": "682303cf-f017-42b3-8497-df5b56bb37fa",
   "metadata": {},
   "outputs": [
    {
     "data": {
      "image/png": "[encoded data removed]",
      "text/plain": [
       "<IPython.core.display.Image object>"
      ]
     },
     "metadata": {},
     "output_type": "display_data"
    },
    {
     "name": "stdout",
     "output_type": "stream",
     "text": [
      "Here|'s| a| short| poem| I| came| up| with|:\n",
      "\n",
      "Numbers| dance| in| my| mind|,\n",
      " of| digits| aligned|.\n",
      " too|,and| subtract|,| multiply|\n",
      "|The| rhythm| of| math|,| forever| true|.\n",
      "\n",
      "In| the| realm| of| numbers|,| I| roam| free|,\n",
      "Where| |2| +| |2| equals| harmony|.\n",
      " beauty| of| math|,| it| never| fades|,\n",
      " that|'s| universal|,| in| every| shade|.\n",
      "\n",
      " to| decimals|,| I| explore|,\n",
      ",| and| all| its| score|.\n",
      " reason|,| I| play|,\n",
      ",| every| single| day|.||"
     ]
    }
   ],
   "source": [
    "config = {\"configurable\": {\"thread_id\": \"no-tool\"}}\n",
    "async with AsyncSqliteSaver.from_conn_string(\"checkpoints.db\") as memory:\n",
    "    react_graph = builder.compile(checkpointer=memory)\n",
    "    display(Image(react_graph.get_graph(xray=True).draw_mermaid_png()))\n",
    "    async for event in react_graph.astream_events({\"messages\": [HumanMessage(content=\"write me a poem?\")]}, \n",
    "                                                   config, version=\"v2\", stream_mode=\"messages\"):\n",
    "  \n",
    "        if event[\"metadata\"].get(\"langgraph_node\", \"\") == \"assistant\":\n",
    "            if event[\"event\"] == \"on_chat_model_stream\":\n",
    "                data = event[\"data\"]\n",
    "                print(data[\"chunk\"].content, end=\"|\")"
   ]
  },
  {
   "cell_type": "markdown",
   "id": "a5b20ec1-e979-48ba-bf96-04ba7f51ede2",
   "metadata": {
    "jupyter": {
     "source_hidden": true
    }
   },
   "source": [
    "## streaming token doesn't work with tool binding "
   ]
  },
  {
   "cell_type": "code",
   "execution_count": 9,
   "id": "35f9f9d5-ff56-4a97-9794-9468a233fa88",
   "metadata": {},
   "outputs": [
    {
     "data": {
      "text/plain": [
       "<langgraph.graph.state.StateGraph at 0x109a48a10>"
      ]
     },
     "execution_count": 9,
     "metadata": {},
     "output_type": "execute_result"
    }
   ],
   "source": [
    "# Graph\n",
    "config = {\"configurable\": {\"thread_id\": \"with-tool\"}}\n",
    "builder = StateGraph(MessagesState)\n",
    "sys_msg = SystemMessage(content=\"You are a helpful assistant tasked with performing arithmetic on a set of inputs.\")\n",
    "def assistant(state: MessagesState, config):\n",
    "   message = [sys_msg] + state[\"messages\"]\n",
    "   model_response = model_with_tools.invoke(\n",
    "       message,\n",
    "        config )\n",
    "   return {\"messages\": model_response}\n",
    "\n",
    "# Define nodes: these do the work\n",
    "builder.add_node(\"assistant\", assistant)\n",
    "builder.add_node(\"tools\", ToolNode(tools))\n",
    "\n",
    "# Define edges: these determine how the control flow moves\n",
    "builder.add_edge(START, \"assistant\")\n",
    "builder.add_conditional_edges(\n",
    "    \"assistant\",\n",
    "    tools_condition,\n",
    ")\n",
    "builder.add_edge(\"tools\", \"assistant\")"
   ]
  },
  {
   "cell_type": "code",
   "execution_count": 10,
   "id": "096dbae0-bf65-44c6-b6cd-64a24df36312",
   "metadata": {},
   "outputs": [
    {
     "data": {
      "image/png": "[encoded data removed]",
      "text/plain": [
       "<IPython.core.display.Image object>"
      ]
     },
     "metadata": {},
     "output_type": "display_data"
    },
    {
     "name": "stdout",
     "output_type": "stream",
     "text": [
      "||The result of the expression 1 + 2 * 5 + 100 is 107.|"
     ]
    }
   ],
   "source": [
    "async with AsyncSqliteSaver.from_conn_string(\"checkpoints.db\") as memory:\n",
    "    react_graph = builder.compile(checkpointer=memory)\n",
    "    display(Image(react_graph.get_graph(xray=True).draw_mermaid_png()))\n",
    "    async for event in react_graph.astream_events({\"messages\": [HumanMessage(content=\"what is 1+2*5+100?\")]}, \n",
    "                                                   config, version=\"v2\", stream_mode=\"messages\"):\n",
    "  \n",
    "        if event[\"metadata\"].get(\"langgraph_node\", \"\") == \"assistant\":\n",
    "            if event[\"event\"] == \"on_chat_model_stream\":\n",
    "                data = event[\"data\"]\n",
    "                print(data[\"chunk\"].content, end=\"|\")\n",
    "                print(data[\"ch"
   ]
  },
  {
   "cell_type": "markdown",
   "id": "984b9364-72ed-472b-82d2-9a6d2b19aac9",
   "metadata": {},
   "source": [
    "## Check history "
   ]
  },
  {
   "cell_type": "code",
   "execution_count": 11,
   "id": "d4f87d9e-2b95-4c92-960f-df907711fed4",
   "metadata": {},
   "outputs": [
    {
     "name": "stdout",
     "output_type": "stream",
     "text": [
      "CheckpointTuple(config={'configurable': {'thread_id': 'no-tool', 'checkpoint_ns': '', 'checkpoint_id': '1eff7b87-86a6-6836-8001-c8c0cfad1196'}}, checkpoint={'v': 1, 'ts': '2025-03-02T22:48:33.805681+00:00', 'id': '1eff7b87-86a6-6836-8001-c8c0cfad1196', 'channel_values': {'messages': [HumanMessage(content='write me a poem?', additional_kwargs={}, response_metadata={}, id='b2454975-899c-484e-b02f-235debfd2d3a'), AIMessage(content=\"Here's a short poem I came up with:\\n\\nNumbers dance in my mind,\\nA symphony of digits aligned.\\nAdd and subtract, multiply too,\\nThe rhythm of math, forever true.\\n\\nIn the realm of numbers, I roam free,\\nWhere 2 + 2 equals harmony.\\nThe beauty of math, it never fades,\\nA language that's universal, in every shade.\\n\\nFrom fractions to decimals, I explore,\\nThe world of numbers, and all its score.\\nI calculate, I reason, I play,\\nIn the game of math, every single day.\", additional_kwargs={}, response_metadata={'model': 'llama3.2', 'created_at': '2025-03-02T22:48:33.78897Z', 'done': True, 'done_reason': 'stop', 'total_duration': 2698987375, 'load_duration': 30029000, 'prompt_eval_count': 45, 'prompt_eval_duration': 202000000, 'eval_count': 114, 'eval_duration': 2465000000, 'message': {'role': 'assistant', 'content': '', 'images': None, 'tool_calls': None}}, id='run-5a96a5b2-9f7f-42d6-94dd-abcb641b1e38', usage_metadata={'input_tokens': 45, 'output_tokens': 114, 'total_tokens': 159})], 'assistant': 'assistant'}, 'channel_versions': {'__start__': '00000000000000000000000000000002.0.7557791023168906', 'messages': '00000000000000000000000000000003.0.12130252485111148', 'start:assistant': '00000000000000000000000000000003.0.26583043047800126', 'assistant': '00000000000000000000000000000003.0.32262140970492126'}, 'versions_seen': {'__input__': {}, '__start__': {'__start__': '00000000000000000000000000000001.0.2471237273658321'}, 'assistant': {'start:assistant': '00000000000000000000000000000002.0.6564179475240753'}}, 'pending_sends': []}, metadata={'source': 'loop', 'writes': {'assistant': {'messages': AIMessage(content=\"Here's a short poem I came up with:\\n\\nNumbers dance in my mind,\\nA symphony of digits aligned.\\nAdd and subtract, multiply too,\\nThe rhythm of math, forever true.\\n\\nIn the realm of numbers, I roam free,\\nWhere 2 + 2 equals harmony.\\nThe beauty of math, it never fades,\\nA language that's universal, in every shade.\\n\\nFrom fractions to decimals, I explore,\\nThe world of numbers, and all its score.\\nI calculate, I reason, I play,\\nIn the game of math, every single day.\", additional_kwargs={}, response_metadata={'model': 'llama3.2', 'created_at': '2025-03-02T22:48:33.78897Z', 'done': True, 'done_reason': 'stop', 'total_duration': 2698987375, 'load_duration': 30029000, 'prompt_eval_count': 45, 'prompt_eval_duration': 202000000, 'eval_count': 114, 'eval_duration': 2465000000, 'message': Message(role='assistant', content='', images=None, tool_calls=None)}, id='run-5a96a5b2-9f7f-42d6-94dd-abcb641b1e38', usage_metadata={'input_tokens': 45, 'output_tokens': 114, 'total_tokens': 159})}}, 'thread_id': 'no-tool', 'step': 1, 'parents': {}}, parent_config={'configurable': {'thread_id': 'no-tool', 'checkpoint_ns': '', 'checkpoint_id': '1eff7b87-6cb0-6abc-8000-3357b7c64866'}}, pending_writes=[])\n"
     ]
    }
   ],
   "source": [
    "config = {\"configurable\": {\"thread_id\": \"no-tool\"}}\n",
    "async with AsyncSqliteSaver.from_conn_string(\"checkpoints.db\") as memory:\n",
    "    result = await memory.aget_tuple(config)\n",
    "    print(result)"
   ]
  },
  {
   "cell_type": "code",
   "execution_count": 54,
   "id": "b498d642-a8ad-4f39-9c48-f38bd2843354",
   "metadata": {
    "scrolled": true
   },
   "outputs": [
    {
     "name": "stdout",
     "output_type": "stream",
     "text": [
      "CheckpointTuple(config={'configurable': {'thread_id': 'with-tool', 'checkpoint_ns': '', 'checkpoint_id': '1eff7b8b-36b2-6b00-8008-15b11a6284a8'}}, checkpoint={'v': 1, 'ts': '2025-03-02T22:50:12.796219+00:00', 'id': '1eff7b8b-36b2-6b00-8008-15b11a6284a8', 'channel_values': {'messages': [HumanMessage(content='what is 1+2*5+100?', additional_kwargs={}, response_metadata={}, id='00052d4b-116c-448e-af07-a2b728010fef'), AIMessage(content='', additional_kwargs={}, response_metadata={'model': 'llama3.2', 'created_at': '2025-03-02T22:48:43.103775Z', 'done': True, 'done_reason': 'stop', 'total_duration': 1491490625, 'load_duration': 38013625, 'prompt_eval_count': 414, 'prompt_eval_duration': 1005000000, 'eval_count': 22, 'eval_duration': 446000000, 'message': {'role': 'assistant', 'content': '', 'images': None, 'tool_calls': None}}, id='run-5ea72cee-84de-4be8-9476-e4a935cae336', tool_calls=[{'name': 'add', 'args': {'a': 7, 'b': 100}, 'id': '8527c5a3-23e8-4bdc-bb1b-9e1f5395d5f8', 'type': 'tool_call'}], usage_metadata={'input_tokens': 414, 'output_tokens': 22, 'total_tokens': 436}), ToolMessage(content='107', name='add', id='4cf41ce2-5945-4ba3-8a3d-03e8070cd484', tool_call_id='8527c5a3-23e8-4bdc-bb1b-9e1f5395d5f8'), AIMessage(content='The result of the expression 1 + 2 * 5 + 100 is 107.', additional_kwargs={}, response_metadata={'model': 'llama3.2', 'created_at': '2025-03-02T22:48:43.681338Z', 'done': True, 'done_reason': 'stop', 'total_duration': 544381958, 'load_duration': 15276792, 'prompt_eval_count': 112, 'prompt_eval_duration': 131000000, 'eval_count': 21, 'eval_duration': 396000000, 'message': {'role': 'assistant', 'content': 'The result of the expression 1 + 2 * 5 + 100 is 107.', 'images': None, 'tool_calls': None}}, id='run-a108fae4-7b34-476e-984f-ef2d6acee31b', usage_metadata={'input_tokens': 112, 'output_tokens': 21, 'total_tokens': 133}), HumanMessage(content='what is 1+2*5+100?', additional_kwargs={}, response_metadata={}, id='9ce409cd-3a09-49a4-8da7-ec27058accfe'), AIMessage(content='', additional_kwargs={}, response_metadata={'model': 'llama3.2', 'created_at': '2025-03-02T22:50:11.368374Z', 'done': True, 'done_reason': 'stop', 'total_duration': 1939683666, 'load_duration': 36828625, 'prompt_eval_count': 485, 'prompt_eval_duration': 941000000, 'eval_count': 44, 'eval_duration': 958000000, 'message': {'role': 'assistant', 'content': '', 'images': None, 'tool_calls': None}}, id='run-89d1a22b-cff4-4386-b245-4f5f90ad1be5', tool_calls=[{'name': 'multiply', 'args': {'a': 2, 'b': 5}, 'id': '433cf652-289f-45d2-a015-0baa67b70b99', 'type': 'tool_call'}, {'name': 'add', 'args': {'a': 7, 'b': 100}, 'id': 'd8bd8d42-a5cd-4d2f-b111-9989bd79d080', 'type': 'tool_call'}], usage_metadata={'input_tokens': 485, 'output_tokens': 44, 'total_tokens': 529}), ToolMessage(content='10', name='multiply', id='58593d00-76aa-4107-843c-1571356b565f', tool_call_id='433cf652-289f-45d2-a015-0baa67b70b99'), ToolMessage(content='107', name='add', id='49cbb7d1-afd6-46f6-9ca8-082d610cea52', tool_call_id='d8bd8d42-a5cd-4d2f-b111-9989bd79d080'), AIMessage(content='The result of the expression 1 + 2 * 5 + 100 is 107. \\n\\nFirst, 2 * 5 = 10\\nThen, 1 + 10 = 11\\nFinally, 11 + 100 = 111', additional_kwargs={}, response_metadata={'model': 'llama3.2', 'created_at': '2025-03-02T22:50:12.780481Z', 'done': True, 'done_reason': 'stop', 'total_duration': 1384765791, 'load_duration': 15203083, 'prompt_eval_count': 203, 'prompt_eval_duration': 209000000, 'eval_count': 54, 'eval_duration': 1157000000, 'message': {'role': 'assistant', 'content': 'The result of the expression 1 + 2 * 5 + 100 is 107. \\n\\nFirst, 2 * 5 = 10\\nThen, 1 + 10 = 11\\nFinally, 11 + 100 = 111', 'images': None, 'tool_calls': None}}, id='run-328e9e34-e2cc-4bbe-b3e7-85783ec641dc', usage_metadata={'input_tokens': 203, 'output_tokens': 54, 'total_tokens': 257})], 'assistant': 'assistant'}, 'channel_versions': {'__start__': '00000000000000000000000000000007.0.26855632982749233', 'messages': '00000000000000000000000000000010.0.5545641479714761', 'start:assistant': '00000000000000000000000000000008.0.997260684686255', 'assistant': '00000000000000000000000000000010.0.2969997825726872', 'branch:assistant:tools_condition:tools': '00000000000000000000000000000009.0.40243062966064325', 'tools': '00000000000000000000000000000010.0.9609818712163885'}, 'versions_seen': {'__input__': {}, '__start__': {'__start__': '00000000000000000000000000000006.0.8859789489636787'}, 'assistant': {'start:assistant': '00000000000000000000000000000007.0.05220133988782627', 'tools': '00000000000000000000000000000009.0.20952457029440696'}, 'tools': {'branch:assistant:tools_condition:tools': '00000000000000000000000000000008.0.01224247837143888'}}, 'pending_sends': []}, metadata={'source': 'loop', 'writes': {'assistant': {'messages': AIMessage(content='The result of the expression 1 + 2 * 5 + 100 is 107. \\n\\nFirst, 2 * 5 = 10\\nThen, 1 + 10 = 11\\nFinally, 11 + 100 = 111', additional_kwargs={}, response_metadata={'model': 'llama3.2', 'created_at': '2025-03-02T22:50:12.780481Z', 'done': True, 'done_reason': 'stop', 'total_duration': 1384765791, 'load_duration': 15203083, 'prompt_eval_count': 203, 'prompt_eval_duration': 209000000, 'eval_count': 54, 'eval_duration': 1157000000, 'message': Message(role='assistant', content='The result of the expression 1 + 2 * 5 + 100 is 107. \\n\\nFirst, 2 * 5 = 10\\nThen, 1 + 10 = 11\\nFinally, 11 + 100 = 111', images=None, tool_calls=None)}, id='run-328e9e34-e2cc-4bbe-b3e7-85783ec641dc', usage_metadata={'input_tokens': 203, 'output_tokens': 54, 'total_tokens': 257})}}, 'thread_id': 'with-tool', 'step': 8, 'parents': {}}, parent_config={'configurable': {'thread_id': 'with-tool', 'checkpoint_ns': '', 'checkpoint_id': '1eff7b8b-294f-6cec-8007-2e64a788dc50'}}, pending_writes=[])\n"
     ]
    }
   ],
   "source": [
    "config = {\"configurable\": {\"thread_id\": \"with-tool\"}}\n",
    "async with AsyncSqliteSaver.from_conn_string(\"checkpoints.db\") as memory:\n",
    "    result = await memory.aget_tuple(config)\n",
    "    print(result)"
   ]
  },
  {
   "cell_type": "markdown",
   "id": "37bac6b6-8758-4c7f-aa86-b35504f0750f",
   "metadata": {},
   "source": [
    "## Tool with breakpoints:\n",
    "\n",
    "* Approval\n",
    "* Debugging\n",
    "* Editing "
   ]
  },
  {
   "cell_type": "markdown",
   "id": "e8944d0c-9522-42f5-b23d-daae20281898",
   "metadata": {},
   "source": [
    "## Approval "
   ]
  },
  {
   "cell_type": "code",
   "execution_count": 88,
   "id": "3a9d4636-b132-4c63-9e8a-2c53853e0f23",
   "metadata": {},
   "outputs": [
    {
     "data": {
      "image/png": "[encoded data removed]",
      "text/plain": [
       "<IPython.core.display.Image object>"
      ]
     },
     "metadata": {},
     "output_type": "display_data"
    }
   ],
   "source": [
    "from IPython.display import Image, display\n",
    "\n",
    "from langgraph.graph import MessagesState\n",
    "from langgraph.graph import START, StateGraph\n",
    "from langgraph.prebuilt import tools_condition, ToolNode\n",
    "from langgraph.checkpoint.sqlite import SqliteSaver\n",
    "\n",
    "from langchain_core.messages import AIMessage, HumanMessage, SystemMessage\n",
    "\n",
    "# System message\n",
    "sys_msg = SystemMessage(content=\"You are a helpful assistant tasked with performing arithmetic on a set of inputs.\")\n",
    "\n",
    "# Node\n",
    "def assistant(state: MessagesState):\n",
    "   return {\"messages\": [model_with_tools.invoke([sys_msg] + state[\"messages\"])]}\n",
    "\n",
    "# Graph\n",
    "builder = StateGraph(MessagesState)\n",
    "\n",
    "# Define nodes: these do the work\n",
    "builder.add_node(\"assistant\", assistant)\n",
    "builder.add_node(\"tools\", ToolNode(tools))\n",
    "\n",
    "# Define edges: these determine the control flow\n",
    "builder.add_edge(START, \"assistant\")\n",
    "builder.add_conditional_edges(\n",
    "    \"assistant\",\n",
    "    # If the latest message (result) from assistant is a tool call -> tools_condition routes to tools\n",
    "    # If the latest message (result) from assistant is a not a tool call -> tools_condition routes to END\n",
    "    tools_condition,\n",
    ")\n",
    "builder.add_edge(\"tools\", \"assistant\")\n",
    "\n",
    "db_path = \"checkpoints.db\"\n",
    "conn = sqlite3.connect(db_path, check_same_thread=False)\n",
    "memory = SqliteSaver(conn)\n",
    "graph = builder.compile(interrupt_before=[\"assistant\"], checkpointer=memory)\n",
    "\n",
    "# Show\n",
    "display(Image(graph.get_graph(xray=True).draw_mermaid_png()))"
   ]
  },
  {
   "cell_type": "code",
   "execution_count": 89,
   "id": "cc151b4c-38f2-4669-9281-7842313db642",
   "metadata": {},
   "outputs": [
    {
     "name": "stdout",
     "output_type": "stream",
     "text": [
      "================================\u001b[1m Human Message \u001b[0m=================================\n",
      "\n",
      "Multiply 2 and 3\n"
     ]
    }
   ],
   "source": [
    "# Input\n",
    "initial_input = {\"messages\": HumanMessage(content=\"Multiply 2 and 3\")}\n",
    "\n",
    "# Thread\n",
    "thread = {\"configurable\": {\"thread_id\": \"103\"}}\n",
    "\n",
    "# Run the graph until the first interruption\n",
    "for event in graph.stream(initial_input, thread, stream_mode=\"values\"):\n",
    "    event['messages'][-1].pretty_print()"
   ]
  },
  {
   "cell_type": "code",
   "execution_count": 90,
   "id": "87dfa008-a960-4663-bee0-3bb4e95e9f99",
   "metadata": {},
   "outputs": [],
   "source": [
    "state = graph.get_state_history(thread)"
   ]
  },
  {
   "cell_type": "code",
   "execution_count": 91,
   "id": "2063a4e4-f286-457b-9651-7f371235ab6b",
   "metadata": {},
   "outputs": [],
   "source": [
    "all_states = [s for s in state]"
   ]
  },
  {
   "cell_type": "code",
   "execution_count": 93,
   "id": "d93a3e0d-f735-4a8a-ab5b-ab2f0f9b2894",
   "metadata": {},
   "outputs": [
    {
     "name": "stdout",
     "output_type": "stream",
     "text": [
      "================================\u001b[1m Human Message \u001b[0m=================================\n",
      "\n",
      "Multiply 2 and 3\n",
      "==================================\u001b[1m Ai Message \u001b[0m==================================\n",
      "Tool Calls:\n",
      "  multiply (79a9a3b2-1f84-4248-8f79-c6de6fa5c8b1)\n",
      " Call ID: 79a9a3b2-1f84-4248-8f79-c6de6fa5c8b1\n",
      "  Args:\n",
      "    a: 2\n",
      "    b: 3\n",
      "=================================\u001b[1m Tool Message \u001b[0m=================================\n",
      "Name: multiply\n",
      "\n",
      "6\n"
     ]
    }
   ],
   "source": [
    "for event in graph.stream(None, thread, stream_mode=\"values\"):\n",
    "    event[\"messages\"][-1].pretty_print()"
   ]
  },
  {
   "cell_type": "code",
   "execution_count": 98,
   "id": "7c1204b5-30bc-4d62-9544-57463b116fee",
   "metadata": {},
   "outputs": [
    {
     "name": "stdout",
     "output_type": "stream",
     "text": [
      "================================\u001b[1m Human Message \u001b[0m=================================\n",
      "\n",
      "Multiply 2 and 3\n"
     ]
    }
   ],
   "source": [
    "# Input\n",
    "initial_input = {\"messages\": HumanMessage(content=\"Multiply 2 and 3\")}\n",
    "\n",
    "# Thread\n",
    "thread = {\"configurable\": {\"thread_id\": \"100\"}}\n",
    "\n",
    "# Run the graph until the first interruption\n",
    "for event in graph.stream(initial_input, thread, stream_mode=\"values\"):\n",
    "    event['messages'][-1].pretty_print()\n",
    "\n",
    "# user_approval = input(\"Do you want to call the tool? (yes/no):\")\n",
    "\n",
    "# if user_approval.lower() == \"yes\":\n",
    "#     for event in graph.stream(None, thread, stream_mode=\"values\"):\n",
    "#         event[\"messages\"][-1].pretty_print()\n",
    "# else:\n",
    "#     print(graph.get_state(thread).next)\n",
    "#     print(\"Operation cancelledby user.\")"
   ]
  },
  {
   "cell_type": "code",
   "execution_count": 99,
   "id": "40801f85-df61-4398-a640-547259f88dc9",
   "metadata": {},
   "outputs": [
    {
     "data": {
      "text/plain": [
       "('assistant',)"
      ]
     },
     "execution_count": 99,
     "metadata": {},
     "output_type": "execute_result"
    }
   ],
   "source": [
    "graph.get_state(thread).next"
   ]
  },
  {
   "cell_type": "markdown",
   "id": "c0b107f8-c3af-4456-818a-1026d976efc1",
   "metadata": {},
   "source": [
    "## update states"
   ]
  },
  {
   "cell_type": "code",
   "execution_count": 95,
   "id": "509b5fc5-29b3-4677-af1b-53e4288c4f56",
   "metadata": {},
   "outputs": [
    {
     "data": {
      "text/plain": [
       "{'configurable': {'thread_id': '100',\n",
       "  'checkpoint_ns': '',\n",
       "  'checkpoint_id': '1eff95a6-6f78-61a8-8008-7c9dfb27d23a'}}"
      ]
     },
     "execution_count": 95,
     "metadata": {},
     "output_type": "execute_result"
    }
   ],
   "source": [
    "graph.update_state(\n",
    "    thread,\n",
    "    {\"messages\":[HumanMessage(content=\"No, actually multiple 3 and 4!\")]}\n",
    ")"
   ]
  },
  {
   "cell_type": "code",
   "execution_count": 96,
   "id": "6fcef02b-2672-482d-818b-c24c98a88177",
   "metadata": {},
   "outputs": [
    {
     "name": "stdout",
     "output_type": "stream",
     "text": [
      "================================\u001b[1m Human Message \u001b[0m=================================\n",
      "\n",
      "Multiply 2 and 3\n",
      "==================================\u001b[1m Ai Message \u001b[0m==================================\n",
      "Tool Calls:\n",
      "  multiply (a0e57a63-e392-4993-9c82-bdd58a5f159b)\n",
      " Call ID: a0e57a63-e392-4993-9c82-bdd58a5f159b\n",
      "  Args:\n",
      "    a: 2\n",
      "    b: 3\n",
      "================================\u001b[1m Human Message \u001b[0m=================================\n",
      "\n",
      "Multiply 2 and 3\n",
      "==================================\u001b[1m Ai Message \u001b[0m==================================\n",
      "Tool Calls:\n",
      "  multiply (16abe2e6-63ca-48ed-a770-8e557fcab4ee)\n",
      " Call ID: 16abe2e6-63ca-48ed-a770-8e557fcab4ee\n",
      "  Args:\n",
      "    a: 2\n",
      "    b: 3\n",
      "================================\u001b[1m Human Message \u001b[0m=================================\n",
      "\n",
      "No, actually multiple 3 and 4!\n",
      "================================\u001b[1m Human Message \u001b[0m=================================\n",
      "\n",
      "Multiply 2 and 3\n",
      "================================\u001b[1m Human Message \u001b[0m=================================\n",
      "\n",
      "No, actually multiple 3 and 4!\n"
     ]
    }
   ],
   "source": [
    "new_state = graph.get_state(thread).values\n",
    "for m in new_state[\"messages\"]:\n",
    "    m.pretty_print()"
   ]
  },
  {
   "cell_type": "code",
   "execution_count": 97,
   "id": "90e95eda-608f-4454-bd54-ce16681d38ec",
   "metadata": {},
   "outputs": [
    {
     "name": "stdout",
     "output_type": "stream",
     "text": [
      "================================\u001b[1m Human Message \u001b[0m=================================\n",
      "\n",
      "No, actually multiple 3 and 4!\n",
      "==================================\u001b[1m Ai Message \u001b[0m==================================\n",
      "Tool Calls:\n",
      "  multiply (5904c811-c2a8-4cbe-a88e-f4196f3de291)\n",
      " Call ID: 5904c811-c2a8-4cbe-a88e-f4196f3de291\n",
      "  Args:\n",
      "    a: 3\n",
      "    b: 4\n",
      "=================================\u001b[1m Tool Message \u001b[0m=================================\n",
      "Name: multiply\n",
      "\n",
      "12\n"
     ]
    }
   ],
   "source": [
    "for event in graph.stream(None, thread, stream_mode=\"values\"):\n",
    "    event['messages'][-1].pretty_print()"
   ]
  },
  {
   "cell_type": "markdown",
   "id": "3f27861d-9ed1-4dcd-ab2f-42706b8caaee",
   "metadata": {},
   "source": [
    "## Time Travel"
   ]
  },
  {
   "cell_type": "code",
   "execution_count": 100,
   "id": "df047759-2409-459e-afa1-c309aae98fcf",
   "metadata": {},
   "outputs": [
    {
     "data": {
      "image/png": "[encoded data removed]",
      "text/plain": [
       "<IPython.core.display.Image object>"
      ]
     },
     "metadata": {},
     "output_type": "display_data"
    }
   ],
   "source": [
    "from IPython.display import Image, display\n",
    "\n",
    "from langgraph.checkpoint.memory import MemorySaver\n",
    "from langgraph.graph import MessagesState\n",
    "from langgraph.graph import START, END, StateGraph\n",
    "from langgraph.prebuilt import tools_condition, ToolNode\n",
    "\n",
    "from langchain_core.messages import AIMessage, HumanMessage, SystemMessage\n",
    "\n",
    "# System message\n",
    "sys_msg = SystemMessage(content=\"You are a helpful assistant tasked with performing arithmetic on a set of inputs.\")\n",
    "\n",
    "# Node\n",
    "def assistant(state: MessagesState):\n",
    "   return {\"messages\": [model_with_tools.invoke([sys_msg] + state[\"messages\"])]}\n",
    "\n",
    "# Graph\n",
    "builder = StateGraph(MessagesState)\n",
    "\n",
    "# Define nodes: these do the work\n",
    "builder.add_node(\"assistant\", assistant)\n",
    "builder.add_node(\"tools\", ToolNode(tools))\n",
    "\n",
    "# Define edges: these determine the control flow\n",
    "builder.add_edge(START, \"assistant\")\n",
    "builder.add_conditional_edges(\n",
    "    \"assistant\",\n",
    "    # If the latest message (result) from assistant is a tool call -> tools_condition routes to tools\n",
    "    # If the latest message (result) from assistant is a not a tool call -> tools_condition routes to END\n",
    "    tools_condition,\n",
    ")\n",
    "builder.add_edge(\"tools\", \"assistant\")\n",
    "\n",
    "memory = MemorySaver()\n",
    "graph = builder.compile(checkpointer=MemorySaver())\n",
    "\n",
    "# Show\n",
    "display(Image(graph.get_graph(xray=True).draw_mermaid_png()))"
   ]
  },
  {
   "cell_type": "code",
   "execution_count": 102,
   "id": "25a72b3f-2246-41bd-9772-3798dd83a759",
   "metadata": {},
   "outputs": [
    {
     "name": "stdout",
     "output_type": "stream",
     "text": [
      "================================\u001b[1m Human Message \u001b[0m=================================\n",
      "\n",
      "Multiply 2 and 3\n",
      "==================================\u001b[1m Ai Message \u001b[0m==================================\n",
      "Tool Calls:\n",
      "  multiply (9cab18b1-2bde-4649-88d1-ba3b09a89a1c)\n",
      " Call ID: 9cab18b1-2bde-4649-88d1-ba3b09a89a1c\n",
      "  Args:\n",
      "    a: 2\n",
      "    b: 3\n",
      "=================================\u001b[1m Tool Message \u001b[0m=================================\n",
      "Name: multiply\n",
      "\n",
      "6\n",
      "==================================\u001b[1m Ai Message \u001b[0m==================================\n",
      "\n",
      "The result of multiplying 2 and 3 is 6.\n"
     ]
    }
   ],
   "source": [
    "\n",
    "initial_input = {\"messages\": HumanMessage(content=\"Multiply 2 and 3\")}\n",
    "\n",
    "# Thread\n",
    "thread = {\"configurable\": {\"thread_id\": \"1\"}}\n",
    "\n",
    "# Run the graph until the first interruption\n",
    "for event in graph.stream(initial_input, thread, stream_mode=\"values\"):\n",
    "    event['messages'][-1].pretty_print()"
   ]
  },
  {
   "cell_type": "code",
   "execution_count": 106,
   "id": "e53d17b3-33af-4c0a-8123-629235e421c6",
   "metadata": {},
   "outputs": [],
   "source": [
    "all_states = [s for s in graph.get_state_history(thread)]"
   ]
  },
  {
   "cell_type": "code",
   "execution_count": 108,
   "id": "7fc1295e-df35-47be-830b-e14ac5d1e4f1",
   "metadata": {},
   "outputs": [
    {
     "data": {
      "text/plain": [
       "5"
      ]
     },
     "execution_count": 108,
     "metadata": {},
     "output_type": "execute_result"
    }
   ],
   "source": [
    "len(all_states)"
   ]
  },
  {
   "cell_type": "code",
   "execution_count": 114,
   "id": "358d4b66-7742-4fb9-b7b5-4074e1a60f1b",
   "metadata": {},
   "outputs": [],
   "source": [
    "all_states[-1].parent_config"
   ]
  },
  {
   "cell_type": "markdown",
   "id": "516fa208-f8ae-4811-be6b-c13ccee21458",
   "metadata": {},
   "source": [
    "## Replay"
   ]
  },
  {
   "cell_type": "code",
   "execution_count": 116,
   "id": "b494d460-1293-49a5-bf1a-0835861239be",
   "metadata": {},
   "outputs": [
    {
     "data": {
      "text/plain": [
       "{'messages': [HumanMessage(content='Multiply 2 and 3', additional_kwargs={}, response_metadata={}, id='e7795a64-ea10-44c5-87f1-643c455d78d0')]}"
      ]
     },
     "execution_count": 116,
     "metadata": {},
     "output_type": "execute_result"
    }
   ],
   "source": [
    "to_replay = all_states[-2]\n",
    "to_replay.values"
   ]
  },
  {
   "cell_type": "code",
   "execution_count": 118,
   "id": "807e95ac-ee74-4328-acf1-fb9a0c1ecf5d",
   "metadata": {},
   "outputs": [
    {
     "data": {
      "text/plain": [
       "{'configurable': {'thread_id': '1',\n",
       "  'checkpoint_ns': '',\n",
       "  'checkpoint_id': '1eff95bb-e009-6a92-8000-03b0abb486e3'}}"
      ]
     },
     "execution_count": 118,
     "metadata": {},
     "output_type": "execute_result"
    }
   ],
   "source": [
    "to_replay.config"
   ]
  },
  {
   "cell_type": "code",
   "execution_count": 120,
   "id": "d52b0c10-3763-494f-abc7-362588c2bfc4",
   "metadata": {},
   "outputs": [
    {
     "name": "stdout",
     "output_type": "stream",
     "text": [
      "================================\u001b[1m Human Message \u001b[0m=================================\n",
      "\n",
      "Multiply 2 and 3\n",
      "==================================\u001b[1m Ai Message \u001b[0m==================================\n",
      "Tool Calls:\n",
      "  multiply (b5e2a71c-05ce-4735-aac1-35a4513c58d4)\n",
      " Call ID: b5e2a71c-05ce-4735-aac1-35a4513c58d4\n",
      "  Args:\n",
      "    a: 2\n",
      "    b: 3\n",
      "=================================\u001b[1m Tool Message \u001b[0m=================================\n",
      "Name: multiply\n",
      "\n",
      "6\n",
      "==================================\u001b[1m Ai Message \u001b[0m==================================\n",
      "\n",
      "The result of multiplying 2 and 3 is 6.\n"
     ]
    }
   ],
   "source": [
    "for event in graph.stream(None, to_replay.config, stream_mode=\"values\"):\n",
    "    event[\"messages\"][-1].pretty_print()"
   ]
  },
  {
   "cell_type": "markdown",
   "id": "7f896e55-caf8-42bc-b2e3-17c44b81ef27",
   "metadata": {},
   "source": [
    "## Forking "
   ]
  },
  {
   "cell_type": "code",
   "execution_count": 121,
   "id": "ff6efc2c-a04b-42ba-b07f-565a58111a5a",
   "metadata": {},
   "outputs": [
    {
     "data": {
      "text/plain": [
       "[HumanMessage(content='Multiply 2 and 3', additional_kwargs={}, response_metadata={}, id='e7795a64-ea10-44c5-87f1-643c455d78d0')]"
      ]
     },
     "execution_count": 121,
     "metadata": {},
     "output_type": "execute_result"
    }
   ],
   "source": [
    "to_fork = all_states[-2]\n",
    "to_fork.values[\"messages\"]"
   ]
  },
  {
   "cell_type": "code",
   "execution_count": 122,
   "id": "c106bcef-05ee-45fd-9954-b275322cfd23",
   "metadata": {},
   "outputs": [
    {
     "data": {
      "text/plain": [
       "{'configurable': {'thread_id': '1',\n",
       "  'checkpoint_ns': '',\n",
       "  'checkpoint_id': '1eff95bb-e009-6a92-8000-03b0abb486e3'}}"
      ]
     },
     "execution_count": 122,
     "metadata": {},
     "output_type": "execute_result"
    }
   ],
   "source": [
    "to_fork.config"
   ]
  },
  {
   "cell_type": "code",
   "execution_count": 123,
   "id": "5ee71243-4376-440f-a624-c3d31893f6a8",
   "metadata": {},
   "outputs": [],
   "source": [
    "fork_config = graph.update_state(\n",
    "    to_fork.config,\n",
    "    {\"messages\":[HumanMessage(content=\"Divide 256 by 16\", id=to_fork.values[\"messages\"][0].id)]},\n",
    ")"
   ]
  },
  {
   "cell_type": "code",
   "execution_count": 124,
   "id": "2725c053-a7c8-42ab-bacc-ae5b74a86d8f",
   "metadata": {},
   "outputs": [
    {
     "data": {
      "text/plain": [
       "{'configurable': {'thread_id': '1',\n",
       "  'checkpoint_ns': '',\n",
       "  'checkpoint_id': '1effa228-ba05-6d7c-8001-092938dccb1a'}}"
      ]
     },
     "execution_count": 124,
     "metadata": {},
     "output_type": "execute_result"
    }
   ],
   "source": [
    "fork_config"
   ]
  },
  {
   "cell_type": "code",
   "execution_count": 125,
   "id": "d9523170-87b6-4f5c-abad-0b074f361cea",
   "metadata": {},
   "outputs": [
    {
     "data": {
      "text/plain": [
       "[HumanMessage(content='Divide 256 by 16', additional_kwargs={}, response_metadata={}, id='e7795a64-ea10-44c5-87f1-643c455d78d0')]"
      ]
     },
     "execution_count": 125,
     "metadata": {},
     "output_type": "execute_result"
    }
   ],
   "source": [
    "all_states = [state for state in graph.get_state_history(thread)]\n",
    "all_states[0].values[\"messages\"]"
   ]
  },
  {
   "cell_type": "code",
   "execution_count": 127,
   "id": "f490689c-979b-4cf1-b240-52dbd0362c53",
   "metadata": {},
   "outputs": [
    {
     "data": {
      "text/plain": [
       "StateSnapshot(values={'messages': [HumanMessage(content='Divide 256 by 16', additional_kwargs={}, response_metadata={}, id='e7795a64-ea10-44c5-87f1-643c455d78d0')]}, next=('assistant',), config={'configurable': {'thread_id': '1', 'checkpoint_ns': '', 'checkpoint_id': '1effa228-ba05-6d7c-8001-092938dccb1a'}}, metadata={'source': 'update', 'writes': {'__start__': {'messages': [HumanMessage(content='Divide 256 by 16', additional_kwargs={}, response_metadata={}, id='e7795a64-ea10-44c5-87f1-643c455d78d0')]}}, 'thread_id': '1', 'step': 1, 'parents': {}, 'checkpoint_ns': '', 'checkpoint_id': '1eff95bb-e009-6a92-8000-03b0abb486e3'}, created_at='2025-03-06T00:32:55.014919+00:00', parent_config={'configurable': {'thread_id': '1', 'checkpoint_ns': '', 'checkpoint_id': '1eff95bb-e009-6a92-8000-03b0abb486e3'}}, tasks=(PregelTask(id='81dc1b3e-6b2d-528d-5428-9a11af110ade', name='assistant', path=('__pregel_pull', 'assistant'), error=None, interrupts=(), state=None, result=None),))"
      ]
     },
     "execution_count": 127,
     "metadata": {},
     "output_type": "execute_result"
    }
   ],
   "source": [
    "graph.get_state({\"configurable\": {\"thread_id\": \"1\"}})"
   ]
  },
  {
   "cell_type": "code",
   "execution_count": 128,
   "id": "f2e404fc-2e7d-42f1-902c-75bd4dcf5463",
   "metadata": {},
   "outputs": [
    {
     "name": "stdout",
     "output_type": "stream",
     "text": [
      "================================\u001b[1m Human Message \u001b[0m=================================\n",
      "\n",
      "Divide 256 by 16\n",
      "==================================\u001b[1m Ai Message \u001b[0m==================================\n",
      "Tool Calls:\n",
      "  divide (f20f7c97-9f1a-4d5a-a158-17eb54964c06)\n",
      " Call ID: f20f7c97-9f1a-4d5a-a158-17eb54964c06\n",
      "  Args:\n",
      "    a: 256\n",
      "    b: 16\n",
      "=================================\u001b[1m Tool Message \u001b[0m=================================\n",
      "Name: divide\n",
      "\n",
      "16.0\n",
      "==================================\u001b[1m Ai Message \u001b[0m==================================\n",
      "\n",
      "The result of dividing 256 by 16 is 16.\n"
     ]
    }
   ],
   "source": [
    "for event in graph.stream(None, fork_config, stream_mode=\"values\"):\n",
    "    event[\"messages\"][-1].pretty_print()"
   ]
  },
  {
   "cell_type": "code",
   "execution_count": 138,
   "id": "65ea2b65-2ae3-40bb-b260-2a781c753998",
   "metadata": {},
   "outputs": [
    {
     "data": {
      "text/plain": [
       "AIMessage(content='The result of dividing 256 by 16 is 16.', additional_kwargs={}, response_metadata={'model': 'llama3.2', 'created_at': '2025-03-06T00:35:50.706945Z', 'done': True, 'done_reason': 'stop', 'total_duration': 406039500, 'load_duration': 15202166, 'prompt_eval_count': 110, 'prompt_eval_duration': 132000000, 'eval_count': 14, 'eval_duration': 256000000, 'message': {'role': 'assistant', 'content': 'The result of dividing 256 by 16 is 16.', 'images': None, 'tool_calls': None}}, id='run-90fb9744-bd8a-455e-9e15-29c5214da323-0', usage_metadata={'input_tokens': 110, 'output_tokens': 14, 'total_tokens': 124})"
      ]
     },
     "execution_count": 138,
     "metadata": {},
     "output_type": "execute_result"
    }
   ],
   "source": [
    "graph.get_state({\"configurable\": {\"thread_id\":\"1\"}}).values[\"messages\"][-1]"
   ]
  },
  {
   "cell_type": "code",
   "execution_count": null,
   "id": "181bacc1-494c-405c-9590-5e67b4b0949f",
   "metadata": {},
   "outputs": [],
   "source": []
  }
 ],
 "metadata": {
  "kernelspec": {
   "display_name": "ai-env",
   "language": "python",
   "name": "ai-env"
  },
  "language_info": {
   "codemirror_mode": {
    "name": "ipython",
    "version": 3
   },
   "file_extension": ".py",
   "mimetype": "text/x-python",
   "name": "python",
   "nbconvert_exporter": "python",
   "pygments_lexer": "ipython3",
   "version": "3.11.7"
  }
 },
 "nbformat": 4,
 "nbformat_minor": 5
}
