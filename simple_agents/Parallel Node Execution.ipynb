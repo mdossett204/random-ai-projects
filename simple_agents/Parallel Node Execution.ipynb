{
 "cells": [
  {
   "cell_type": "code",
   "execution_count": 2,
   "id": "4b5f80b5-4670-4a25-8f5b-cdc8d5040581",
   "metadata": {},
   "outputs": [
    {
     "data": {
      "text/plain": [
       "True"
      ]
     },
     "execution_count": 2,
     "metadata": {},
     "output_type": "execute_result"
    }
   ],
   "source": [
    "from dotenv import load_dotenv\n",
    "load_dotenv(\"../chatbot/.env\")"
   ]
  },
  {
   "cell_type": "code",
   "execution_count": 3,
   "id": "9ea2009d-f55c-4cfd-b466-539bf3ddbb6d",
   "metadata": {},
   "outputs": [],
   "source": [
    "import os\n",
    "os.environ[\"LANGCHAIN_PROJECT\"] = \"llama3.2-parallel-execution\""
   ]
  },
  {
   "cell_type": "code",
   "execution_count": 4,
   "id": "581acb96-c5ef-4c55-a25b-91155a500818",
   "metadata": {},
   "outputs": [],
   "source": [
    "from langchain_ollama import ChatOllama\n",
    "model = ChatOllama(model=\"llama3.2\", temperature=0)"
   ]
  },
  {
   "cell_type": "code",
   "execution_count": 5,
   "id": "7244ff37-011c-498d-9098-64cffbb5a001",
   "metadata": {},
   "outputs": [],
   "source": [
    "import operator\n",
    "from typing import Annotated\n",
    "from typing_extensions import TypedDict\n",
    "\n",
    "class State(TypedDict):\n",
    "    question : str\n",
    "    answer: str \n",
    "    context: Annotated[list, operator.add]"
   ]
  },
  {
   "cell_type": "code",
   "execution_count": 27,
   "id": "5ddf6f0b-d189-44dc-991a-8ca44ad91707",
   "metadata": {},
   "outputs": [],
   "source": [
    "from langchain_core.messages import HumanMessage, SystemMessage\n",
    "\n",
    "from langchain_community.document_loaders import WikipediaLoader\n",
    "from langchain_community.tools import TavilySearchResults"
   ]
  },
  {
   "cell_type": "code",
   "execution_count": 33,
   "id": "f9629436-83a9-4708-a12d-a30da6936a85",
   "metadata": {},
   "outputs": [],
   "source": [
    "def tavily_search(state):\n",
    "    tavily_search = TavilySearchResults(max_results=2)\n",
    "    search_docs = tavily_search.invoke(state[\"question\"])\n",
    "    return {\"context\": [doc[\"content\"] for doc in search_docs]}\n",
    "    "
   ]
  },
  {
   "cell_type": "code",
   "execution_count": 31,
   "id": "18613bda-1d6e-45c3-9e4b-63f589b29ee2",
   "metadata": {},
   "outputs": [],
   "source": [
    "from langchain_community.tools import TavilySearchResults"
   ]
  },
  {
   "cell_type": "code",
   "execution_count": 47,
   "id": "1f019111-4484-4149-bf54-69942add6652",
   "metadata": {},
   "outputs": [
    {
     "data": {
      "text/plain": [
       "[{'url': 'https://www.axios.com/2024/08/28/nvidia-stock-earnings-call-q2-report',\n",
       "  'content': 'Analysts polled by FactSet were expecting $28.72 billion in revenue and earnings of $0.65 a share. ... For context, in Q2 2024, there were 144'},\n",
       " {'url': 'https://www.cnbc.com/2024/08/28/nvidia-nvda-earnings-report-q2-2025.html',\n",
       "  'content': 'Best Credit Cards Best Loans to Refinance Credit Card Debt Best Credit Cards for Small Business Best Small Business Loans Best Personal Loans for Bad Credit Nvidia said it expects about $32.5 billion in current-quarter revenue, versus $31.7 billion expected by analysts, according to StreetAccount. Revenue in Nvidia\\'s data center business, which includes its AI processors, climbed 154% from a year earlier to $26.3 billion, accounting for 88% of total sales. Nvidia said it shipped samples of Blackwell chips during the quarter, and made a change to the product to make it more efficient to manufacture. \"In the fourth quarter, we expect to ship several billion dollars in Blackwell revenue,\" Nvidia Chief Financial Officer Colette Kress said on a call with analysts.'},\n",
       " {'url': 'https://nvidianews.nvidia.com/news/nvidia-announces-financial-results-for-second-quarter-fiscal-2025',\n",
       "  'content': 'Certain statements in this press release including, but not limited to, statements as to: the strong demand for Hopper and the incredible anticipation for Blackwell; global data centers in full throttle to modernize the entire computing stack with accelerated computing and generative AI; the timing of Blackwell samples shipping to partners and customers; Spectrum-X Ethernet for AI and NVIDIA AI Enterprise software achieving significant scale; NVIDIA helping frontier model makers, consumer internet services, and enterprises; generative AI revolutionizing every industry; the benefits and performance of NVIDIA’s products and services, including NVIDIA H200, NVIDIA Blackwell and B200, NVIDIA Spectrum-X, NVIDIA NIM, NVIDIA DGX Cloud, NVIDIA AI Foundry service, NVIDIA Quantum-2 InfiniBand, NVIDIA CUDA-Q, NVIDIA ACE, NVIDIA Nemotron-4 4B, Project G-Assist, RTX AI Toolkit, NVIDIA Metropolis, NVIDIA Omniverse, NVIDIA Isaac and Omniverse Cloud Sensor RTX; NVIDIA’s next quarterly cash dividend; NVIDIA’s expected full-year gross margins and operating expenses; and NVIDIA’s financial outlook and expected tax rates for the third quarter of fiscal 2025 are forward-looking statements that are subject to risks and uncertainties that could cause results to be materially different than expectations.'}]"
      ]
     },
     "execution_count": 47,
     "metadata": {},
     "output_type": "execute_result"
    }
   ],
   "source": [
    "TavilySearchResults(max_results=3).invoke(\"How were Nvidia's Q2 2024 earnings\")"
   ]
  },
  {
   "cell_type": "code",
   "execution_count": 49,
   "id": "9a4c03e6-e51d-4275-a26a-c067b33af4ba",
   "metadata": {},
   "outputs": [
    {
     "data": {
      "text/plain": [
       "{'context': ['NVIDIA Q1 2024 Earnings: AI Demand Fuels Growth Leading to Stock Split NVIDIA Q1 2024 Earnings: AI Demand Fuels Growth Leading to Stock Split Stay up to date on the latest stock and economic news that may affect NVIDIA and the rest of your portfolio. Get the latest market news delivered right to your inbox, including news that affects NVIDIA. Following the earnings report, NVIDIA’s stock price crossed the $1,000 threshold for the first time in after-hours trading, rising from a $949.50 close before the call on May 22, 2024. NVIDIA announced a 10-for-1 stock split on the Q1 earnings call. The post NVIDIA Q1 2024 Earnings: AI Demand Fuels Growth Leading to Stock Split appeared first on SmartReads by SmartAsset.',\n",
       "  'Certain statements in this press release including, but not limited to, statements as to: the computer industry going through two simultaneous transitions – accelerated computing and generative AI; installed global data center infrastructure transitioning from general purpose to accelerated computing as companies race to apply generative AI into every product, service and business process; NVIDIA’s entire data center family of products being in production; NVIDIA significantly increasing supply to meet surging demand; NVIDIA’s next quarterly cash dividend; NVIDIA’s financial outlook and expected tax rates for the second quarter of fiscal 2024; the benefits, impact, performance, features and availability of our products and technologies, including NVIDIA Ada, NVIDIA Hopper, NVIDIA Grace Hopper CPU, NVIDIA L4 Tensor Core GPU, NVIDIA AI Foundations, NVIDIA cuLitho software library, NVIDIA H100 Tensor Core GPU, NVIDIA AI Enterprise, GeForce RTX GPUs, DLSS 3, GeForce NOW, NVIDIA Omniverse Cloud, Omniverse, NVIDIA RTX GPUs, and NVIDIA DRIVE Orin; and the benefits and impact of our collaborations, including with Google Cloud, Amazon Web Services, Microsoft Azure, Oracle Cloud Infrastructure, ServiceNow, Medtronic, Dell Technologies, CD PROJEKT RED, Microsoft, and BYD are forward-looking statements that are subject to risks and uncertainties that could cause results to be materially different than expectations.']}"
      ]
     },
     "execution_count": 49,
     "metadata": {},
     "output_type": "execute_result"
    }
   ],
   "source": [
    "tavily_search({\"question\":\"How were the Nvida's q1 2024 earnings\"})"
   ]
  },
  {
   "cell_type": "code",
   "execution_count": 13,
   "id": "20be54d1-a077-45f9-9ecd-44efd5c11bf4",
   "metadata": {},
   "outputs": [],
   "source": [
    "def search_wikipedia(state):\n",
    "    search_docs = WikipediaLoader(query=state[\"question\"],\n",
    "                                  load_max_docs=2).load()\n",
    "    return {\"context\": [doc.page_content for doc in search_docs]}"
   ]
  },
  {
   "cell_type": "code",
   "execution_count": 50,
   "id": "7284a1eb-02dc-4a53-a102-388fb8b6f850",
   "metadata": {},
   "outputs": [
    {
     "data": {
      "text/plain": [
       "{'context': []}"
      ]
     },
     "execution_count": 50,
     "metadata": {},
     "output_type": "execute_result"
    }
   ],
   "source": [
    "search_wikipedia({\"question\":\"How were the Nvida's q1 2024 earnings\"})"
   ]
  },
  {
   "cell_type": "code",
   "execution_count": 41,
   "id": "4bd7cb6e-d771-48e1-912f-0634ba68d9a5",
   "metadata": {},
   "outputs": [],
   "source": [
    "def model_ans(state):\n",
    "    context = state[\"context\"]\n",
    "    question = state[\"question\"]\n",
    "    \n",
    "    answer_template = \"\"\"Answer the question {question} using this context: {context}\"\"\"\n",
    "    answer_instructions = answer_template.format(question=question, \n",
    "                                                       context=context)    \n",
    "    answer = model.invoke([SystemMessage(content=answer_instructions)]+[HumanMessage(content=f\"Answer the question.\")])\n",
    "    return {\"answer\": answer}"
   ]
  },
  {
   "cell_type": "code",
   "execution_count": 42,
   "id": "85ad61bf-93b5-46a4-b9b0-6de92b0fbe1b",
   "metadata": {},
   "outputs": [
    {
     "data": {
      "image/png": "[encoded data removed]",
      "text/plain": [
       "<IPython.core.display.Image object>"
      ]
     },
     "metadata": {},
     "output_type": "display_data"
    }
   ],
   "source": [
    "from IPython.display import Image, display\n",
    "\n",
    "from langgraph.graph import StateGraph, START, END\n",
    "\n",
    "graph = StateGraph(State)\n",
    "\n",
    "graph.add_node(\"search_web\", tavily_search)\n",
    "graph.add_node(\"search_wiki\", search_wikipedia)\n",
    "graph.add_node(\"answer_question\", model_ans)\n",
    "\n",
    "graph.add_edge(START, \"search_web\")\n",
    "graph.add_edge(START, \"search_wiki\")\n",
    "graph.add_edge(\"search_web\", \"answer_question\")\n",
    "graph.add_edge(\"search_wiki\", \"answer_question\")\n",
    "graph.add_edge(\"answer_question\", END)\n",
    "\n",
    "agent = graph.compile()\n",
    "\n",
    "display(Image(agent.get_graph().draw_mermaid_png()))"
   ]
  },
  {
   "cell_type": "code",
   "execution_count": 46,
   "id": "67e2dc6b-08b6-4286-8253-1cadfc050d87",
   "metadata": {},
   "outputs": [
    {
     "data": {
      "text/plain": [
       "\"Unfortunately, the provided text does not mention Nvidia's Q2 2024 earnings. However, I can provide some context and information about Nvidia's recent financial performance.\\n\\nAccording to a report by StreetAccount, Nvidia expects $32.5 billion in revenue for its current quarter, which is higher than the expected $28.72 billion by analysts polled by FactSet. In terms of earnings, Nvidia expects around $0.65 per share, which is slightly above the expected $0.65 per share by analysts.\\n\\nIt's worth noting that Nvidia has been performing well in recent quarters, driven by strong demand for its graphics processing units (GPUs) and other products. The company's data center business, which includes its AI computing and high-performance computing offerings, has also been a significant contributor to its revenue growth.\\n\\nIf you're looking for more information on Nvidia's Q2 2024 earnings, I recommend checking the company's official financial reports or reputable financial news sources such as Bloomberg or CNBC.\""
      ]
     },
     "execution_count": 46,
     "metadata": {},
     "output_type": "execute_result"
    }
   ],
   "source": [
    "result = agent.invoke({\"question\": \"How were Nvidia's Q2 2024 earnings\"})\n",
    "result['answer'].content"
   ]
  },
  {
   "cell_type": "code",
   "execution_count": null,
   "id": "247c6692-c610-4564-92d5-daf630e38680",
   "metadata": {},
   "outputs": [],
   "source": []
  }
 ],
 "metadata": {
  "kernelspec": {
   "display_name": "ai-env",
   "language": "python",
   "name": "ai-env"
  },
  "language_info": {
   "codemirror_mode": {
    "name": "ipython",
    "version": 3
   },
   "file_extension": ".py",
   "mimetype": "text/x-python",
   "name": "python",
   "nbconvert_exporter": "python",
   "pygments_lexer": "ipython3",
   "version": "3.11.7"
  }
 },
 "nbformat": 4,
 "nbformat_minor": 5
}
