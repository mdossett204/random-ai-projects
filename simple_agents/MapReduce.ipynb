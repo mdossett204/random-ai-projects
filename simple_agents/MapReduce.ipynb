{
 "cells": [
  {
   "cell_type": "code",
   "execution_count": 2,
   "id": "6c032c8f-1d1c-41a1-9b28-f8c241c9fdac",
   "metadata": {},
   "outputs": [],
   "source": [
    "from dotenv import load_dotenv\n",
    "load_dotenv(\"../chatbot/.env\")\n",
    "\n",
    "import os\n",
    "os.environ[\"LANGCHAIN_PROJECT\"] = \"llama3.2-mapreduce\"\n",
    "\n",
    "from langchain_ollama import ChatOllama\n",
    "model = ChatOllama(model=\"llama3.2\", temperature=0)"
   ]
  },
  {
   "cell_type": "markdown",
   "id": "c0004b5d-459a-4d38-b39e-06fec10c5ffe",
   "metadata": {},
   "source": [
    "## MAP Reduce"
   ]
  },
  {
   "cell_type": "code",
   "execution_count": 3,
   "id": "9cf4e1c1-dc48-4c5b-ae78-b2cfd40e1fef",
   "metadata": {},
   "outputs": [],
   "source": [
    "subject_prompt = \"\"\"Generate a comma separated list of between 2 and 5 examples related to :{topic}.\"\"\"\n",
    "joke_prompt = \"\"\"Generate a joke about {subject}\"\"\"\n",
    "best_joke_prompt = \"\"\"Below are a bunch of jokes about {topic}. Select the best one! Return the ID of the best one, \n",
    "                    starting 0 as the ID for the first joke. Jokes: \\n\\n {jokes}\"\"\""
   ]
  },
  {
   "cell_type": "markdown",
   "id": "a3706c9d-90a3-4cde-9f34-6e5f52a64820",
   "metadata": {},
   "source": [
    "## Define states"
   ]
  },
  {
   "cell_type": "code",
   "execution_count": 11,
   "id": "15eee2ea-108b-4a1d-ae54-2b3a9f401769",
   "metadata": {},
   "outputs": [],
   "source": [
    "from operator import add\n",
    "from typing import Annotated, List\n",
    "from typing_extensions import TypedDict\n",
    "from pydantic import BaseModel\n",
    "\n",
    "class Subjects(BaseModel):\n",
    "    subjects: List[str]\n",
    "\n",
    "class BestJoke(BaseModel):\n",
    "    id: int\n",
    "\n",
    "class OverallState(TypedDict):\n",
    "    topic: str\n",
    "    subjects: List[str]\n",
    "    jokes: Annotated[List[str], add]\n",
    "    best_selected_joke: str"
   ]
  },
  {
   "cell_type": "code",
   "execution_count": 35,
   "id": "150404f4-23c3-42b8-8098-c6e0c651e28f",
   "metadata": {},
   "outputs": [],
   "source": [
    "def generate_topics(state: OverallState):\n",
    "    prompt = subject_prompt.format(topic=state[\"topic\"])\n",
    "    response = model.with_structured_output(Subjects).invoke(prompt)\n",
    "    return {\"subjects\": response.subjects}"
   ]
  },
  {
   "cell_type": "code",
   "execution_count": 36,
   "id": "25b2a223-33b7-4bef-94e4-350c94d3eb90",
   "metadata": {},
   "outputs": [],
   "source": [
    "from langgraph.constants import Send\n",
    "def continue_to_jokes(state: OverallState):\n",
    "    return [Send(\"generate_joke\", {\"subject\": s}) for s in state[\"subjects\"]]"
   ]
  },
  {
   "cell_type": "markdown",
   "id": "0a1e1930-3b00-4a8a-af3b-887de69c86ef",
   "metadata": {},
   "source": [
    "## Map Step for joke"
   ]
  },
  {
   "cell_type": "code",
   "execution_count": 44,
   "id": "56b9c5b0-5f75-4fba-a5ef-94de1f4f14c0",
   "metadata": {},
   "outputs": [],
   "source": [
    "class JokeState(TypedDict):\n",
    "    subject: str\n",
    "\n",
    "class Joke(BaseModel):\n",
    "    joke: str\n",
    "\n",
    "def generate_joke(state: JokeState):\n",
    "    prompt = joke_prompt.format(subject=state[\"subject\"])\n",
    "    response = model.with_structured_output(Joke).invoke(prompt)\n",
    "    return {\"jokes\": [response.joke]}"
   ]
  },
  {
   "cell_type": "markdown",
   "id": "9841cd96-3a65-4dae-9039-56a0673d6831",
   "metadata": {},
   "source": [
    "## Best Joke Reduce"
   ]
  },
  {
   "cell_type": "code",
   "execution_count": 45,
   "id": "734715d4-b4c4-42eb-94ea-4cd84c96d71e",
   "metadata": {},
   "outputs": [],
   "source": [
    "def best_joke(state: OverallState):\n",
    "    jokes = \"\\n\\n\".join(state[\"jokes\"])\n",
    "    prompt = best_joke_prompt.format(topic=state[\"topic\"], jokes=jokes)\n",
    "    response = model.with_structured_output(BestJoke).invoke(prompt)\n",
    "    return {\"best_selected_joke\": state[\"jokes\"][response.id]}"
   ]
  },
  {
   "cell_type": "code",
   "execution_count": 46,
   "id": "2d67da43-3039-411f-b900-7db4dc1a8a3d",
   "metadata": {},
   "outputs": [
    {
     "data": {
      "image/png": "[encoded data removed]",
      "text/plain": [
       "<IPython.core.display.Image object>"
      ]
     },
     "execution_count": 46,
     "metadata": {},
     "output_type": "execute_result"
    }
   ],
   "source": [
    "from IPython.display import Image\n",
    "from langgraph.graph import END, StateGraph, START\n",
    "\n",
    "graph = StateGraph(OverallState)\n",
    "graph.add_node(\"generate_topics\", generate_topics)\n",
    "graph.add_node(\"generate_joke\", generate_joke)\n",
    "graph.add_node(\"best_joke\", best_joke)\n",
    "graph.add_edge(START, \"generate_topics\")\n",
    "graph.add_conditional_edges(\"generate_topics\", continue_to_jokes, [\"generate_joke\"])\n",
    "graph.add_edge(\"generate_joke\", \"best_joke\")\n",
    "graph.add_edge(\"best_joke\", END)\n",
    "\n",
    "final_graph = graph.compile()\n",
    "Image(final_graph.get_graph(xray=1).draw_mermaid_png())"
   ]
  },
  {
   "cell_type": "code",
   "execution_count": 47,
   "id": "8d762441-a61a-4ef2-b62c-8039175f28d6",
   "metadata": {},
   "outputs": [
    {
     "data": {
      "text/plain": [
       "{'topic': 'ducks',\n",
       " 'subjects': ['Quacking sounds',\n",
       "  'Webbed feet',\n",
       "  'Feathers',\n",
       "  'Waddling',\n",
       "  'Duck eggs'],\n",
       " 'jokes': ['Why did the duck go to the doctor? Because it had a fowl cough!',\n",
       "  'Why did the man with webbed feet go to the party? Because he heard it was a toe-tally good time!',\n",
       "  'Why did the feather go to therapy? Because it was feeling a little down!',\n",
       "  'Why did the duck go to the doctor? It had a fowl cough!',\n",
       "  'Why did the duck egg go to therapy? Because it was cracking under the pressure!'],\n",
       " 'best_selected_joke': 'Why did the duck go to the doctor? Because it had a fowl cough!'}"
      ]
     },
     "execution_count": 47,
     "metadata": {},
     "output_type": "execute_result"
    }
   ],
   "source": [
    "final_graph.invoke({\"topic\": \"ducks\"})"
   ]
  },
  {
   "cell_type": "code",
   "execution_count": 48,
   "id": "28d3b3a8-790d-414d-bf49-7b087d116f75",
   "metadata": {},
   "outputs": [
    {
     "name": "stdout",
     "output_type": "stream",
     "text": [
      "{'generate_topics': {'subjects': ['Lion', 'Tiger', 'Elephant', 'Giraffe', 'Zebra']}}\n",
      "{'generate_joke': {'jokes': ['Why did the tiger go to the party? Because it was a roar-ing good time!']}}\n",
      "{'generate_joke': {'jokes': ['Why did the elephant quit the circus? Because it was tired of working for peanuts!']}}\n",
      "{'generate_joke': {'jokes': ['Why did the lion go to the dentist? Because it had a roar-ing toothache!']}}\n",
      "{'generate_joke': {'jokes': ['Why did the giraffe refuse to play hide and seek? Because he was always a neck above the rest!']}}\n",
      "{'generate_joke': {'jokes': ['Why did the zebra refuse to play poker? Because he always got striped of his money!']}}\n",
      "{'best_joke': {'best_selected_joke': 'Why did the lion go to the dentist? Because it had a roar-ing toothache!'}}\n"
     ]
    }
   ],
   "source": [
    "for s in final_graph.stream({\"topic\": \"animals\"}):\n",
    "    print(s)"
   ]
  }
 ],
 "metadata": {
  "kernelspec": {
   "display_name": "ai-env",
   "language": "python",
   "name": "ai-env"
  },
  "language_info": {
   "codemirror_mode": {
    "name": "ipython",
    "version": 3
   },
   "file_extension": ".py",
   "mimetype": "text/x-python",
   "name": "python",
   "nbconvert_exporter": "python",
   "pygments_lexer": "ipython3",
   "version": "3.11.7"
  }
 },
 "nbformat": 4,
 "nbformat_minor": 5
}
